{
 "cells": [
  {
   "cell_type": "code",
   "execution_count": 11,
   "metadata": {},
   "outputs": [],
   "source": [
    "#load packages\n",
    "from ftplib import FTP  #assist in ftp download\n",
    "import zipfile  #assist in unzipping files\n",
    "import gzip\n",
    "import os\n",
    "import requests\n",
    "import pandas as pd\n",
    "import numpy as np"
   ]
  },
  {
   "cell_type": "code",
   "execution_count": 6,
   "metadata": {},
   "outputs": [],
   "source": [
    "#Change directory\n",
    "os.chdir(\"C:/Users/HP/Desktop/PythonPractice\")\n",
    "\n",
    "#Destination folder\n",
    "files = \"C:/Users/HP/Desktop/PythonPractice/Dls/\""
   ]
  },
  {
   "cell_type": "code",
   "execution_count": null,
   "metadata": {},
   "outputs": [],
   "source": [
    "#specify the file format\n",
    "#the long way\n",
    "start_no = \"0219\"\n",
    "end_no = \"2126\"\n",
    "data_numbers = np.arange(int(start_no), int(end_no)+1, 1)\n",
    "\n",
    "data_value = []\n",
    "for j in range(len(data_numbers)):\n",
    "    file = data_numbers[j]\n",
    "    if len(str(file)) == 3:\n",
    "        data_value.insert(j, \"0\" + str(file))\n",
    "    else:\n",
    "        data_value.insert(j, file)\n",
    "\n",
    "data_format = 'ea' + data_value + '.zip'"
   ]
  },
  {
   "cell_type": "code",
   "execution_count": null,
   "metadata": {},
   "outputs": [],
   "source": [
    "#trial on concatinating strings\n",
    "values = np.arange(1000, 1006, 1)\n",
    "file_format = []\n",
    "for i in range(len(values)):\n",
    "    val = str(values[i])\n",
    "    file_format.insert(i, \"ea\" + val + \".zip\")"
   ]
  },
  {
   "cell_type": "code",
   "execution_count": null,
   "metadata": {},
   "outputs": [],
   "source": [
    "#downloading files\n",
    "url = \"https://edcintl.cr.usgs.gov/downloads/sciweb1/shared/fews/web/africa/east/dekadal/emodis/ndvi_c6/temporallysmoothedndvi/downloads/dekadal/\"\n",
    "postbinaddress = [url + i for i in file_format]\n",
    "\n",
    "filename = [files + i for i in file_format]\n",
    "\n",
    "# data download:\n",
    "for i in range(len(file_format)):\n",
    "    with open(filename[i], \"wb\") as f:\n",
    "        r = requests.get(postbinaddress[i])\n",
    "        f.write(r.content)\n",
    "\n",
    "print(\"done\")\n"
   ]
  },
  {
   "cell_type": "code",
   "execution_count": null,
   "metadata": {},
   "outputs": [],
   "source": [
    "#checking zip files, unzipping and removing non-zip files\n",
    "os.chdir(\"C:/Users/HP/Desktop/PythonPractice/Dls\")\n",
    "unzip = \"C:/Users/HP/Desktop/PythonPractice/Unzipped\"\n",
    "all_files = os.listdir()\n",
    "for i in all_files:\n",
    "    if zipfile.is_zipfile(i):\n",
    "        with zipfile.ZipFile(i, 'r') as zipObj:\n",
    "            zipObj.extractall(unzip)\n",
    "    else:\n",
    "        os.remove(i)"
   ]
  },
  {
   "cell_type": "code",
   "execution_count": 9,
   "metadata": {},
   "outputs": [],
   "source": [
    "#unzipping files method 2\n",
    "zip_file = 'C:/Users/HP/Desktop/PythonPractice/Dls/ea1001.zip'\n",
    "with zipfile.ZipFile(zip_file, 'r') as zipObj:\n",
    "        zipObj.extractall(\"C:/Users/HP/Desktop/PythonPractice/Unzipped\")"
   ]
  },
  {
   "cell_type": "code",
   "execution_count": 1,
   "metadata": {},
   "outputs": [
    {
     "name": "stdout",
     "output_type": "stream",
     "text": [
      "Extracted all\n"
     ]
    }
   ],
   "source": [
    "#unzipping files method 3\n",
    "import zipfile\n",
    "\n",
    "zip_file = 'C:/Users/HP/Desktop/PythonPractice/Dls/ea1001.zip'\n",
    " \n",
    "try:\n",
    "    with zipfile.ZipFile(zip_file) as z:\n",
    "        z.extractall()\n",
    "        print(\"Extracted all\")\n",
    "except:\n",
    "    print(\"Invalid file\")"
   ]
  },
  {
   "cell_type": "code",
   "execution_count": null,
   "metadata": {},
   "outputs": [],
   "source": [
    "#Another way to download and extract\n",
    "import urllib\n",
    "import zipfile\n",
    "\n",
    "url = \"https://edcintl.cr.usgs.gov/downloads/sciweb1/shared/fews/web/africa/east/dekadal/emodis/ndvi_c6/temporallysmoothedndvi/downloads/dekadal/\"\n",
    "extract_dir = \"C:/Users/HP/Desktop/PythonTask/Downloads/\"\n",
    "\n",
    "zip_path, _ = urllib.request.urlretrieve(url)\n",
    "with zipfile.ZipFile(zip_path, \"r\") as f:\n",
    "    f.extractall(extract_dir)"
   ]
  }
 ],
 "metadata": {
  "kernelspec": {
   "display_name": "Python 3 (ipykernel)",
   "language": "python",
   "name": "python3"
  },
  "language_info": {
   "codemirror_mode": {
    "name": "ipython",
    "version": 3
   },
   "file_extension": ".py",
   "mimetype": "text/x-python",
   "name": "python",
   "nbconvert_exporter": "python",
   "pygments_lexer": "ipython3",
   "version": "3.8.12"
  }
 },
 "nbformat": 4,
 "nbformat_minor": 4
}
